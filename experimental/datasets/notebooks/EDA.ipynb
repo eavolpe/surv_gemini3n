{
 "cells": [
  {
   "cell_type": "markdown",
   "id": "e0750feb",
   "metadata": {},
   "source": [
    "# Data Cleaning"
   ]
  },
  {
   "cell_type": "markdown",
   "id": "390ee63c",
   "metadata": {},
   "source": [
    "#### Let's begin by loading the data that has temporal annotations per frame.\n",
    "- All videos are 30 fps."
   ]
  },
  {
   "cell_type": "code",
   "execution_count": 3,
   "id": "5826daf9",
   "metadata": {},
   "outputs": [],
   "source": [
    "import pandas as pd\n",
    "\n",
    "col_names = ['video_name', 'event', 'start1', 'end1', 'start2', 'end2']\n",
    "data = pd.read_csv(\n",
    "    '../data/Temporal_Anomaly_Annotation_for_Testing_Videos.txt',\n",
    "    sep=r'\\s+',\n",
    "    header=None,\n",
    "    names=col_names,\n",
    "    engine='python'\n",
    ")"
   ]
  },
  {
   "cell_type": "code",
   "execution_count": 4,
   "id": "bd299b9c",
   "metadata": {},
   "outputs": [
    {
     "data": {
      "text/html": [
       "<div>\n",
       "<style scoped>\n",
       "    .dataframe tbody tr th:only-of-type {\n",
       "        vertical-align: middle;\n",
       "    }\n",
       "\n",
       "    .dataframe tbody tr th {\n",
       "        vertical-align: top;\n",
       "    }\n",
       "\n",
       "    .dataframe thead th {\n",
       "        text-align: right;\n",
       "    }\n",
       "</style>\n",
       "<table border=\"1\" class=\"dataframe\">\n",
       "  <thead>\n",
       "    <tr style=\"text-align: right;\">\n",
       "      <th></th>\n",
       "      <th>video_name</th>\n",
       "      <th>event</th>\n",
       "      <th>start1</th>\n",
       "      <th>end1</th>\n",
       "      <th>start2</th>\n",
       "      <th>end2</th>\n",
       "    </tr>\n",
       "  </thead>\n",
       "  <tbody>\n",
       "    <tr>\n",
       "      <th>0</th>\n",
       "      <td>Abuse028_x264.mp4</td>\n",
       "      <td>Abuse</td>\n",
       "      <td>165</td>\n",
       "      <td>240</td>\n",
       "      <td>-1</td>\n",
       "      <td>-1</td>\n",
       "    </tr>\n",
       "    <tr>\n",
       "      <th>1</th>\n",
       "      <td>Abuse030_x264.mp4</td>\n",
       "      <td>Abuse</td>\n",
       "      <td>1275</td>\n",
       "      <td>1360</td>\n",
       "      <td>-1</td>\n",
       "      <td>-1</td>\n",
       "    </tr>\n",
       "    <tr>\n",
       "      <th>2</th>\n",
       "      <td>Arrest001_x264.mp4</td>\n",
       "      <td>Arrest</td>\n",
       "      <td>1185</td>\n",
       "      <td>1485</td>\n",
       "      <td>-1</td>\n",
       "      <td>-1</td>\n",
       "    </tr>\n",
       "    <tr>\n",
       "      <th>3</th>\n",
       "      <td>Arrest007_x264.mp4</td>\n",
       "      <td>Arrest</td>\n",
       "      <td>1530</td>\n",
       "      <td>2160</td>\n",
       "      <td>-1</td>\n",
       "      <td>-1</td>\n",
       "    </tr>\n",
       "    <tr>\n",
       "      <th>4</th>\n",
       "      <td>Arrest024_x264.mp4</td>\n",
       "      <td>Arrest</td>\n",
       "      <td>1005</td>\n",
       "      <td>3105</td>\n",
       "      <td>-1</td>\n",
       "      <td>-1</td>\n",
       "    </tr>\n",
       "  </tbody>\n",
       "</table>\n",
       "</div>"
      ],
      "text/plain": [
       "           video_name   event  start1  end1  start2  end2\n",
       "0   Abuse028_x264.mp4   Abuse     165   240      -1    -1\n",
       "1   Abuse030_x264.mp4   Abuse    1275  1360      -1    -1\n",
       "2  Arrest001_x264.mp4  Arrest    1185  1485      -1    -1\n",
       "3  Arrest007_x264.mp4  Arrest    1530  2160      -1    -1\n",
       "4  Arrest024_x264.mp4  Arrest    1005  3105      -1    -1"
      ]
     },
     "execution_count": 4,
     "metadata": {},
     "output_type": "execute_result"
    }
   ],
   "source": [
    "data.head()"
   ]
  },
  {
   "cell_type": "markdown",
   "id": "e508de78",
   "metadata": {},
   "source": [
    "#### Looks like most of them have one instance of anomaly. Let's check that."
   ]
  },
  {
   "cell_type": "code",
   "execution_count": 5,
   "id": "b6e61c63",
   "metadata": {},
   "outputs": [
    {
     "name": "stdout",
     "output_type": "stream",
     "text": [
      "Number of videos with second instance of event: 16 out of 290\n"
     ]
    }
   ],
   "source": [
    "print(\"Number of videos with second instance of event:\", len(data[data['start2'] != -1]), \"out of\", len(data))"
   ]
  },
  {
   "cell_type": "markdown",
   "id": "710cd9fd",
   "metadata": {},
   "source": [
    "#### Given this, let's just keep videos that have one instance of anomaly. This means we're using 274 videos."
   ]
  },
  {
   "cell_type": "code",
   "execution_count": 6,
   "id": "419b629f",
   "metadata": {},
   "outputs": [],
   "source": [
    "data = data[data['start2'] == -1]"
   ]
  },
  {
   "cell_type": "markdown",
   "id": "299838d2",
   "metadata": {},
   "source": [
    "#### We also want to have a dataset with anomalies exclusively, so we'll remove the rows with a Normal event."
   ]
  },
  {
   "cell_type": "code",
   "execution_count": 8,
   "id": "31921661",
   "metadata": {},
   "outputs": [
    {
     "data": {
      "text/html": [
       "<div>\n",
       "<style scoped>\n",
       "    .dataframe tbody tr th:only-of-type {\n",
       "        vertical-align: middle;\n",
       "    }\n",
       "\n",
       "    .dataframe tbody tr th {\n",
       "        vertical-align: top;\n",
       "    }\n",
       "\n",
       "    .dataframe thead th {\n",
       "        text-align: right;\n",
       "    }\n",
       "</style>\n",
       "<table border=\"1\" class=\"dataframe\">\n",
       "  <thead>\n",
       "    <tr style=\"text-align: right;\">\n",
       "      <th></th>\n",
       "      <th>video_name</th>\n",
       "      <th>event</th>\n",
       "      <th>start1</th>\n",
       "      <th>end1</th>\n",
       "      <th>start2</th>\n",
       "      <th>end2</th>\n",
       "    </tr>\n",
       "  </thead>\n",
       "  <tbody>\n",
       "    <tr>\n",
       "      <th>0</th>\n",
       "      <td>Abuse028_x264.mp4</td>\n",
       "      <td>Abuse</td>\n",
       "      <td>165</td>\n",
       "      <td>240</td>\n",
       "      <td>-1</td>\n",
       "      <td>-1</td>\n",
       "    </tr>\n",
       "    <tr>\n",
       "      <th>1</th>\n",
       "      <td>Abuse030_x264.mp4</td>\n",
       "      <td>Abuse</td>\n",
       "      <td>1275</td>\n",
       "      <td>1360</td>\n",
       "      <td>-1</td>\n",
       "      <td>-1</td>\n",
       "    </tr>\n",
       "    <tr>\n",
       "      <th>2</th>\n",
       "      <td>Arrest001_x264.mp4</td>\n",
       "      <td>Arrest</td>\n",
       "      <td>1185</td>\n",
       "      <td>1485</td>\n",
       "      <td>-1</td>\n",
       "      <td>-1</td>\n",
       "    </tr>\n",
       "    <tr>\n",
       "      <th>3</th>\n",
       "      <td>Arrest007_x264.mp4</td>\n",
       "      <td>Arrest</td>\n",
       "      <td>1530</td>\n",
       "      <td>2160</td>\n",
       "      <td>-1</td>\n",
       "      <td>-1</td>\n",
       "    </tr>\n",
       "    <tr>\n",
       "      <th>4</th>\n",
       "      <td>Arrest024_x264.mp4</td>\n",
       "      <td>Arrest</td>\n",
       "      <td>1005</td>\n",
       "      <td>3105</td>\n",
       "      <td>-1</td>\n",
       "      <td>-1</td>\n",
       "    </tr>\n",
       "    <tr>\n",
       "      <th>...</th>\n",
       "      <td>...</td>\n",
       "      <td>...</td>\n",
       "      <td>...</td>\n",
       "      <td>...</td>\n",
       "      <td>...</td>\n",
       "      <td>...</td>\n",
       "    </tr>\n",
       "    <tr>\n",
       "      <th>281</th>\n",
       "      <td>Stealing036_x264.mp4</td>\n",
       "      <td>Stealing</td>\n",
       "      <td>1260</td>\n",
       "      <td>1590</td>\n",
       "      <td>-1</td>\n",
       "      <td>-1</td>\n",
       "    </tr>\n",
       "    <tr>\n",
       "      <th>282</th>\n",
       "      <td>Stealing058_x264.mp4</td>\n",
       "      <td>Stealing</td>\n",
       "      <td>570</td>\n",
       "      <td>3660</td>\n",
       "      <td>-1</td>\n",
       "      <td>-1</td>\n",
       "    </tr>\n",
       "    <tr>\n",
       "      <th>283</th>\n",
       "      <td>Stealing062_x264.mp4</td>\n",
       "      <td>Stealing</td>\n",
       "      <td>360</td>\n",
       "      <td>1050</td>\n",
       "      <td>-1</td>\n",
       "      <td>-1</td>\n",
       "    </tr>\n",
       "    <tr>\n",
       "      <th>285</th>\n",
       "      <td>Vandalism007_x264.mp4</td>\n",
       "      <td>Vandalism</td>\n",
       "      <td>240</td>\n",
       "      <td>750</td>\n",
       "      <td>-1</td>\n",
       "      <td>-1</td>\n",
       "    </tr>\n",
       "    <tr>\n",
       "      <th>286</th>\n",
       "      <td>Vandalism015_x264.mp4</td>\n",
       "      <td>Vandalism</td>\n",
       "      <td>2010</td>\n",
       "      <td>2700</td>\n",
       "      <td>-1</td>\n",
       "      <td>-1</td>\n",
       "    </tr>\n",
       "  </tbody>\n",
       "</table>\n",
       "<p>124 rows × 6 columns</p>\n",
       "</div>"
      ],
      "text/plain": [
       "                video_name      event  start1  end1  start2  end2\n",
       "0        Abuse028_x264.mp4      Abuse     165   240      -1    -1\n",
       "1        Abuse030_x264.mp4      Abuse    1275  1360      -1    -1\n",
       "2       Arrest001_x264.mp4     Arrest    1185  1485      -1    -1\n",
       "3       Arrest007_x264.mp4     Arrest    1530  2160      -1    -1\n",
       "4       Arrest024_x264.mp4     Arrest    1005  3105      -1    -1\n",
       "..                     ...        ...     ...   ...     ...   ...\n",
       "281   Stealing036_x264.mp4   Stealing    1260  1590      -1    -1\n",
       "282   Stealing058_x264.mp4   Stealing     570  3660      -1    -1\n",
       "283   Stealing062_x264.mp4   Stealing     360  1050      -1    -1\n",
       "285  Vandalism007_x264.mp4  Vandalism     240   750      -1    -1\n",
       "286  Vandalism015_x264.mp4  Vandalism    2010  2700      -1    -1\n",
       "\n",
       "[124 rows x 6 columns]"
      ]
     },
     "execution_count": 8,
     "metadata": {},
     "output_type": "execute_result"
    }
   ],
   "source": [
    "anomalies = data[data['event'] != 'Normal']\n",
    "anomalies"
   ]
  },
  {
   "cell_type": "markdown",
   "id": "038c329e",
   "metadata": {},
   "source": [
    "#### We now have data for 124 videos"
   ]
  },
  {
   "cell_type": "code",
   "execution_count": 9,
   "id": "ac60225d",
   "metadata": {},
   "outputs": [],
   "source": [
    "duration = anomalies['end1'] - anomalies['start1']\n",
    "duration = duration/30 # Convert to seconds"
   ]
  },
  {
   "cell_type": "code",
   "execution_count": 10,
   "id": "1afb5827",
   "metadata": {},
   "outputs": [
    {
     "name": "stdout",
     "output_type": "stream",
     "text": [
      "count    124.000000\n",
      "mean      18.764247\n",
      "std       30.728390\n",
      "min        1.000000\n",
      "10%        2.500000\n",
      "15%        3.000000\n",
      "20%        3.333333\n",
      "25%        4.000000\n",
      "50%        7.500000\n",
      "75%       16.166667\n",
      "90%       53.033333\n",
      "99%      112.470000\n",
      "99.9%    216.176567\n",
      "max      230.366667\n",
      "dtype: float64\n"
     ]
    }
   ],
   "source": [
    "print(duration.describe(percentiles=[0.1,0.15,0.2,0.25,0.5,0.75,0.90,0.99,0.999]))"
   ]
  },
  {
   "cell_type": "code",
   "execution_count": 11,
   "id": "4b188955",
   "metadata": {},
   "outputs": [
    {
     "data": {
      "image/png": "[encoded data removed]",
      "text/plain": [
       "<Figure size 640x480 with 1 Axes>"
      ]
     },
     "metadata": {},
     "output_type": "display_data"
    }
   ],
   "source": [
    "import matplotlib.pyplot as plt\n",
    "\n",
    "plt.hist(duration[duration < 100], bins=20)\n",
    "plt.xlabel('Duration (seconds)')\n",
    "plt.ylabel('Frequency')\n",
    "plt.title('Distribution of Duration')\n",
    "plt.show()"
   ]
  },
  {
   "cell_type": "markdown",
   "id": "1d0f7e23",
   "metadata": {},
   "source": [
    "#### We can tell that most events take at most 10 seconds, with a a mean of 7.5 seconds. Let's zoom in at those that last less than 10 second."
   ]
  },
  {
   "cell_type": "code",
   "execution_count": 12,
   "id": "d3fc6f75",
   "metadata": {},
   "outputs": [
    {
     "data": {
      "image/png": "[encoded data removed]",
      "text/plain": [
       "<Figure size 640x480 with 1 Axes>"
      ]
     },
     "metadata": {},
     "output_type": "display_data"
    }
   ],
   "source": [
    "#Remove outliers from the duration list\n",
    "plt.hist(duration[duration < 10], bins=20)\n",
    "plt.xlabel('Duration (seconds)')\n",
    "plt.ylabel('Frequency')\n",
    "plt.title('Distribution of Duration')\n",
    "plt.show()"
   ]
  },
  {
   "cell_type": "markdown",
   "id": "56fd66d3",
   "metadata": {},
   "source": [
    "#### Taking into account there are only 3 instances for which an anomaly took a second or less, we will sample using one frame per second."
   ]
  },
  {
   "cell_type": "code",
   "execution_count": 13,
   "id": "aa916a26",
   "metadata": {},
   "outputs": [],
   "source": [
    "anomalies = anomalies.drop(columns=['start2', 'end2'])"
   ]
  },
  {
   "cell_type": "code",
   "execution_count": 14,
   "id": "c7058e16",
   "metadata": {},
   "outputs": [],
   "source": [
    "anomalies.to_json(\"../data/anomalies.json\", orient=\"records\")"
   ]
  }
 ],
 "metadata": {
  "kernelspec": {
   "display_name": "Python 3",
   "language": "python",
   "name": "python3"
  },
  "language_info": {
   "codemirror_mode": {
    "name": "ipython",
    "version": 3
   },
   "file_extension": ".py",
   "mimetype": "text/x-python",
   "name": "python",
   "nbconvert_exporter": "python",
   "pygments_lexer": "ipython3",
   "version": "3.11.6"
  }
 },
 "nbformat": 4,
 "nbformat_minor": 5
}
